{
 "cells": [
  {
   "cell_type": "code",
   "execution_count": 1,
   "metadata": {},
   "outputs": [
    {
     "name": "stdout",
     "output_type": "stream",
     "text": [
      "Start...\n",
      "Picture 0 to 16 are finished...\n",
      "Picture 16 to 32 are finished...\n",
      "Picture 32 to 48 are finished...\n",
      "Picture 48 to 64 are finished...\n",
      "Picture 64 to 80 are finished...\n",
      "Picture 80 to 96 are finished...\n",
      "Picture 96 to 112 are finished...\n",
      "Picture 112 to 128 are finished...\n",
      "Picture 128 to 144 are finished...\n",
      "Picture 144 to 160 are finished...\n",
      "Picture 160 to 176 are finished...\n",
      "Picture 176 to 192 are finished...\n",
      "Picture 192 to 208 are finished...\n",
      "Picture 208 to 224 are finished...\n",
      "Picture 224 to 240 are finished...\n",
      "Picture 240 to 256 are finished...\n",
      "Picture 256 to 272 are finished...\n",
      "Picture 272 to 288 are finished...\n",
      "Picture 288 to 304 are finished...\n",
      "Picture 304 to 320 are finished...\n",
      "Picture 320 to 336 are finished...\n",
      "Picture 336 to 352 are finished...\n",
      "Picture 352 to 368 are finished...\n",
      "Picture 368 to 384 are finished...\n",
      "Picture 384 to 400 are finished...\n",
      "Shape of result = (238400, 40, 40)\n",
      "Saving data...\n",
      "Done.\n"
     ]
    }
   ],
   "source": [
    "!python data.py"
   ]
  },
  {
   "cell_type": "code",
   "execution_count": 10,
   "metadata": {},
   "outputs": [
    {
     "name": "stdout",
     "output_type": "stream",
     "text": [
      "[name: \"/device:CPU:0\"\n",
      "device_type: \"CPU\"\n",
      "memory_limit: 268435456\n",
      "locality {\n",
      "}\n",
      "incarnation: 17036149814262346883\n",
      "]\n"
     ]
    }
   ],
   "source": [
    "from tensorflow.python.client import device_lib\n",
    "print(device_lib.list_local_devices())"
   ]
  },
  {
   "cell_type": "code",
   "execution_count": null,
   "metadata": {
    "collapsed": true
   },
   "outputs": [],
   "source": []
  },
  {
   "cell_type": "code",
   "execution_count": 4,
   "metadata": {},
   "outputs": [
    {
     "name": "stdout",
     "output_type": "stream",
     "text": [
      "/Users/raphael/anaconda3/lib/python3.6/site-packages/h5py/__init__.py:34: FutureWarning: Conversion of the second argument of issubdtype from `float` to `np.floating` is deprecated. In future, it will be treated as `np.float64 == np.dtype(float).type`.\n",
      "  from ._conv import register_converters as _register_converters\n",
      "Using TensorFlow backend.\n",
      "root  : INFO   Namespace(batch_size=128, epoch=50, lr=0.001, model='DnCNN', only_test=False, pretrain=None, save_every=5, sigma=25, test_dir='./data/Test/Set68', train_data='./data/npy_data/clean_patches.npy')\n",
      "root  : INFO   loading train data...\n",
      "root  : INFO   Size of train data: (238400, 40, 40)\n",
      "2019-03-19 12:18:29.591223: I tensorflow/core/platform/cpu_feature_guard.cc:141] Your CPU supports instructions that this TensorFlow binary was not compiled to use: AVX2 FMA\n",
      "Epoch 1/50\n",
      "   4/1862 [..............................] - ETA: 15:38:25 - loss: 0.6667^C\n"
     ]
    }
   ],
   "source": [
    "!python main_1.py"
   ]
  },
  {
   "cell_type": "code",
   "execution_count": null,
   "metadata": {
    "collapsed": true
   },
   "outputs": [],
   "source": []
  }
 ],
 "metadata": {
  "kernelspec": {
   "display_name": "Python 3",
   "language": "python",
   "name": "python3"
  },
  "language_info": {
   "codemirror_mode": {
    "name": "ipython",
    "version": 3
   },
   "file_extension": ".py",
   "mimetype": "text/x-python",
   "name": "python",
   "nbconvert_exporter": "python",
   "pygments_lexer": "ipython3",
   "version": "3.6.8"
  }
 },
 "nbformat": 4,
 "nbformat_minor": 2
}
